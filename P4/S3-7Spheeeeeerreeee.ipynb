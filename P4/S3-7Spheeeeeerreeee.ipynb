{
 "cells": [
  {
   "cell_type": "markdown",
   "id": "02b9f0c6",
   "metadata": {},
   "source": [
    "Dans ce notebook, on va tout simplement essayer de faire fonctionner notre modèle et algorithme sur une sphère\n",
    "Comment allons-nous procéder ?\n",
    "Tout d'abord un peu de visualisation chacal hehe bah oui sans ça on est un peu baisé chef"
   ]
  },
  {
   "cell_type": "markdown",
   "id": "7fd74ac3",
   "metadata": {},
   "source": [
    "x=ρsinφcosθ\n",
    " \n",
    "y=ρsinφsinθ\n",
    " \n",
    "z=ρcosφ"
   ]
  },
  {
   "cell_type": "markdown",
   "id": "f8133d0b",
   "metadata": {},
   "source": [
    "Ici on va tout d'abord essayer de faire du clustering sur une hypersphere."
   ]
  },
  {
   "cell_type": "code",
   "execution_count": null,
   "id": "10756eee",
   "metadata": {},
   "outputs": [],
   "source": []
  }
 ],
 "metadata": {
  "kernelspec": {
   "display_name": "Python 3 (ipykernel)",
   "language": "python",
   "name": "python3"
  },
  "language_info": {
   "codemirror_mode": {
    "name": "ipython",
    "version": 3
   },
   "file_extension": ".py",
   "mimetype": "text/x-python",
   "name": "python",
   "nbconvert_exporter": "python",
   "pygments_lexer": "ipython3",
   "version": "3.10.9"
  }
 },
 "nbformat": 4,
 "nbformat_minor": 5
}
