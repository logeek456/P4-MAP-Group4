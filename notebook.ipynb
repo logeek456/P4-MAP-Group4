{
 "cells": [
  {
   "cell_type": "code",
   "execution_count": 1,
   "metadata": {},
   "outputs": [
    {
     "name": "stderr",
     "output_type": "stream",
     "text": [
      "/usr/lib/python3/dist-packages/scipy/__init__.py:146: UserWarning: A NumPy version >=1.17.3 and <1.25.0 is required for this version of SciPy (detected version 1.26.4\n",
      "  warnings.warn(f\"A NumPy version >={np_minversion} and <{np_maxversion}\"\n"
     ]
    }
   ],
   "source": [
    "import numpy as np\n",
    "import matplotlib.pyplot as plt\n",
    "import cvxpy as cp\n",
    "from classes import *\n"
   ]
  },
  {
   "cell_type": "code",
   "execution_count": 2,
   "metadata": {},
   "outputs": [],
   "source": [
    "#Données du problème\n",
    "city_coords = [(0,0),(1,0),(-5,2),(7,-3),(2,4)]\n",
    "city_pops = [150,50,600,70,450]\n",
    "nb_cities = len(city_coords)\n",
    "min_intensity = 5\n",
    "sat_capacity = 2500\n",
    "nb_sats = 3\n",
    "#cities = [City(city_coords[i], city_pops[i]) for i in range(nb_cities)]\n",
    "\n",
    "#Variables\n",
    "\n",
    "#sats = [Satellite([cp.Variable(),cp.Variable()],sat_capacity) for i in range(nb_sats)]\n",
    "#acceptability = [cp.Variable(boolean=True) for i in range(nb_cities)]\n",
    "\n",
    "#Objectif\n",
    "#objective = cp.Maximize(cp.sum(cities[i].get_intensity(sats) for i in range(nb_cities)))\n",
    "\n",
    "#Contraintes\n",
    "#constraints = [acceptability[i] == cities[i].satisfied(sats, min_intensity) for i in range(nb_cities)]\n",
    "#constraints += [cp.sum(acceptability[i] * cities[i].population for i in range(nb_cities)) >= 0.8 * sum(city_pops)]\n",
    "\n",
    "#Problème\n",
    "#problem = cp.Problem(objective, constraints)\n",
    "\n",
    "#Résolution\n",
    "#problem.solve()\n",
    "#print(problem.status)\n",
    "\n"
   ]
  },
  {
   "cell_type": "code",
   "execution_count": 3,
   "metadata": {},
   "outputs": [],
   "source": [
    "def euclidean_distance(city_coords, sat_coords):\n",
    "    return np.sqrt(np.sum((sat_coords - city_coords)**2))\n",
    "\n",
    "def city_intensity(city, sats):\n",
    "    inten = 0\n",
    "    for sat in sats:\n",
    "        if euclidean_distance(city, sat) < 8:\n",
    "            inten += sat_capacity / euclidean_distance(city, sat)\n",
    "    return inten"
   ]
  },
  {
   "cell_type": "code",
   "execution_count": 6,
   "metadata": {},
   "outputs": [
    {
     "ename": "ValueError",
     "evalue": "setting an array element with a sequence.",
     "output_type": "error",
     "traceback": [
      "\u001b[0;31m---------------------------------------------------------------------------\u001b[0m",
      "\u001b[0;31mTypeError\u001b[0m                                 Traceback (most recent call last)",
      "\u001b[0;31mTypeError\u001b[0m: float() argument must be a string or a real number, not 'Variable'",
      "\nThe above exception was the direct cause of the following exception:\n",
      "\u001b[0;31mValueError\u001b[0m                                Traceback (most recent call last)",
      "\u001b[0;32m/tmp/ipykernel_4102/3451569544.py\u001b[0m in \u001b[0;36m<module>\u001b[0;34m\u001b[0m\n\u001b[1;32m      7\u001b[0m \u001b[0macceptability\u001b[0m \u001b[0;34m=\u001b[0m \u001b[0mnp\u001b[0m\u001b[0;34m.\u001b[0m\u001b[0mones\u001b[0m\u001b[0;34m(\u001b[0m\u001b[0mnb_cities\u001b[0m\u001b[0;34m)\u001b[0m\u001b[0;34m\u001b[0m\u001b[0;34m\u001b[0m\u001b[0m\n\u001b[1;32m      8\u001b[0m \u001b[0;32mfor\u001b[0m \u001b[0mi\u001b[0m \u001b[0;32min\u001b[0m \u001b[0mrange\u001b[0m\u001b[0;34m(\u001b[0m\u001b[0mnb_cities\u001b[0m\u001b[0;34m)\u001b[0m\u001b[0;34m:\u001b[0m\u001b[0;34m\u001b[0m\u001b[0;34m\u001b[0m\u001b[0m\n\u001b[0;32m----> 9\u001b[0;31m     \u001b[0macceptability\u001b[0m\u001b[0;34m[\u001b[0m\u001b[0mi\u001b[0m\u001b[0;34m]\u001b[0m \u001b[0;34m=\u001b[0m \u001b[0mcp\u001b[0m\u001b[0;34m.\u001b[0m\u001b[0mVariable\u001b[0m\u001b[0;34m(\u001b[0m\u001b[0mboolean\u001b[0m\u001b[0;34m=\u001b[0m\u001b[0;32mTrue\u001b[0m\u001b[0;34m)\u001b[0m\u001b[0;34m\u001b[0m\u001b[0;34m\u001b[0m\u001b[0m\n\u001b[0m\u001b[1;32m     10\u001b[0m \u001b[0;34m\u001b[0m\u001b[0m\n\u001b[1;32m     11\u001b[0m \u001b[0mobjective\u001b[0m \u001b[0;34m=\u001b[0m \u001b[0mcp\u001b[0m\u001b[0;34m.\u001b[0m\u001b[0mMaximize\u001b[0m\u001b[0;34m(\u001b[0m\u001b[0mcp\u001b[0m\u001b[0;34m.\u001b[0m\u001b[0msum\u001b[0m\u001b[0;34m(\u001b[0m\u001b[0;34m[\u001b[0m\u001b[0mcity_pops\u001b[0m\u001b[0;34m[\u001b[0m\u001b[0mi\u001b[0m\u001b[0;34m]\u001b[0m \u001b[0;34m*\u001b[0m \u001b[0macceptability\u001b[0m\u001b[0;34m[\u001b[0m\u001b[0mi\u001b[0m\u001b[0;34m]\u001b[0m \u001b[0;32mfor\u001b[0m \u001b[0mi\u001b[0m \u001b[0;32min\u001b[0m \u001b[0mrange\u001b[0m\u001b[0;34m(\u001b[0m\u001b[0mnb_cities\u001b[0m\u001b[0;34m)\u001b[0m\u001b[0;34m]\u001b[0m\u001b[0;34m)\u001b[0m\u001b[0;34m)\u001b[0m\u001b[0;34m\u001b[0m\u001b[0;34m\u001b[0m\u001b[0m\n",
      "\u001b[0;31mValueError\u001b[0m: setting an array element with a sequence."
     ]
    }
   ],
   "source": [
    "sats = []\n",
    "\n",
    "for i in range(nb_sats):\n",
    "    sats.append([cp.Variable(),cp.Variable()])\n",
    "    \n",
    "\n",
    "acceptability = [cp.Variable(boolean=True) for i in range(nb_cities)]\n",
    "\n",
    "\n",
    "objective = cp.Maximize(cp.sum([city_pops[i] * acceptability[i] for i in range(nb_cities)]))\n",
    "\n",
    "constraints = [cp.sum([city_pops[i] * acceptability[i] for i in range(nb_cities)]) >= 0.8 * sum(city_pops)]\n",
    "\n"
   ]
  }
 ],
 "metadata": {
  "kernelspec": {
   "display_name": "Python 3",
   "language": "python",
   "name": "python3"
  },
  "language_info": {
   "codemirror_mode": {
    "name": "ipython",
    "version": 3
   },
   "file_extension": ".py",
   "mimetype": "text/x-python",
   "name": "python",
   "nbconvert_exporter": "python",
   "pygments_lexer": "ipython3",
   "version": "3.10.12"
  }
 },
 "nbformat": 4,
 "nbformat_minor": 2
}
