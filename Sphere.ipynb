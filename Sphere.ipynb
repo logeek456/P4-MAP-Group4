{
 "cells": [
  {
   "cell_type": "code",
   "execution_count": 5,
   "metadata": {},
   "outputs": [],
   "source": [
    "import math\n",
    "import numpy as np"
   ]
  },
  {
   "cell_type": "code",
   "execution_count": 6,
   "metadata": {},
   "outputs": [],
   "source": [
    "def distance(lat1, lon1, lat2, lon2):\n",
    "    lat1 = math.radians(lat1)\n",
    "    lon1 = math.radians(lon1)\n",
    "    lat2 = math.radians(lat2)\n",
    "    lon2 = math.radians(lon2)\n",
    "    dlon = lon2 - lon1\n",
    "    dlat = lat2 - lat1\n",
    "    a = math.sin(dlat / 2)**2 + math.cos(lat1) * math.cos(lat2) * math.sin(dlon / 2)**2\n",
    "    c = 2 * math.atan2(math.sqrt(a), math.sqrt(1 - a))\n",
    "    distance = 6371 * c\n",
    "    return distance\n",
    "#verification dla fonction, ça semble ok! :=)\n",
    "#dis = distance(49.6833, 5.8167, 50.8466, 4.3528)\n",
    "#print(dis)"
   ]
  },
  {
   "cell_type": "code",
   "execution_count": 7,
   "metadata": {},
   "outputs": [
    {
     "name": "stdout",
     "output_type": "stream",
     "text": [
      "0.6436807188974397 0.06557225809075846 0.7624797774948225\n"
     ]
    }
   ],
   "source": [
    "#servira pour la représentation 3D \n",
    "def convert(lat, lon):\n",
    "    lat = math.radians(lat)\n",
    "    lon = math.radians(lon)\n",
    "    x = math.cos(lat) * math.cos(lon)\n",
    "    y = math.cos(lat) * math.sin(lon)\n",
    "    z = math.sin(lat)\n",
    "    return x, y, z\n",
    "#verification dla fonction, ça semble ok! :=)\n",
    "x, y, z = convert(49.6833, 5.8167)\n",
    "print(x, y, z)"
   ]
  },
  {
   "cell_type": "code",
   "execution_count": 8,
   "metadata": {},
   "outputs": [
    {
     "name": "stdout",
     "output_type": "stream",
     "text": [
      "49.6833 5.8167\n"
     ]
    }
   ],
   "source": [
    "def convert2(x, y, z):\n",
    "    lat = math.asin(z)\n",
    "    lon = math.atan2(y, x)\n",
    "    return math.degrees(lat), math.degrees(lon)\n",
    "#verification dla fonction, ça semble ok! :=)\n",
    "lat, lon = convert2(0.6436807188974397, 0.06557225809075846, 0.7624797774948225)\n",
    "print(lat, lon)"
   ]
  },
  {
   "cell_type": "code",
   "execution_count": 9,
   "metadata": {},
   "outputs": [],
   "source": [
    "def calculate_viewing_angle(lat_sat, lon_sat, alt_sat, lat_point, lon_point):\n",
    "    R = 6371  # Rayon de la Terre en kilomètres\n",
    "\n",
    "    x_sat, y_sat, z_sat = convert(lat_sat, lon_sat)\n",
    "    x_sat *= R + alt_sat\n",
    "    y_sat *= R + alt_sat\n",
    "    z_sat *= R + alt_sat\n",
    "\n",
    "    x_point, y_point, z_point = convert(lat_point, lon_point)\n",
    "    x_point *= R\n",
    "    y_point *= R\n",
    "    z_point *= R\n",
    "\n",
    "    vector_earth_to_sat = [x_sat, y_sat, z_sat]\n",
    "    vector_earth_to_point = [x_point, y_point, z_point]\n",
    "\n",
    "    # Calcul de l'angle en utilisant le produit scalaire\n",
    "    dot_product = sum(p*q for p, q in zip(vector_earth_to_sat, vector_earth_to_point))\n",
    "    magnitude_sat = math.sqrt(sum([x**2 for x in vector_earth_to_sat]))\n",
    "    magnitude_point = math.sqrt(sum([x**2 for x in vector_earth_to_point]))\n",
    "\n",
    "    angle = math.acos(dot_product / (magnitude_sat * magnitude_point))\n",
    "\n",
    "\n",
    "    angle_degrees = math.degrees(angle)\n",
    "\n",
    "    return angle_degrees\n",
    "\n",
    "def is_point_visible_by_satellite(lat_sat, lon_sat, alt_sat, lat_point, lon_point, max_angle):\n",
    "    viewing_angle = calculate_viewing_angle(lat_sat, lon_sat, alt_sat, lat_point, lon_point)\n",
    "    return viewing_angle <= max_angle"
   ]
  },
  {
   "cell_type": "code",
   "execution_count": 10,
   "metadata": {},
   "outputs": [
    {
     "name": "stdout",
     "output_type": "stream",
     "text": [
      "Point (10, 10) visible par le satellite : True\n",
      "Point (80, 80) visible par le satellite : False\n",
      "Point (0, 45) visible par le satellite : True\n",
      "Point (-60, -60) visible par le satellite : False\n"
     ]
    }
   ],
   "source": [
    "max_angle = 75  # Par exemple, cela dépend de la spécification du satellite\n",
    "\n",
    "# Coordonnées du satellite (latitude, longitude, altitude en kilomètres)\n",
    "satellite_coords = (0, 0, 500)  # Exemple de coordonnées\n",
    "\n",
    "# Ensemble de données de test\n",
    "test_points = [\n",
    "    (10, 10),   # Point qui devrait être visible\n",
    "    (80, 80),   # Point probablement hors de vue\n",
    "    (0, 45),    # Autre point qui pourrait être visible\n",
    "    (-60, -60)  # Point probablement hors de vue\n",
    "]\n",
    "\n",
    "# Tester chaque point\n",
    "for point in test_points:\n",
    "    visible = is_point_visible_by_satellite(*satellite_coords, *point, max_angle)\n",
    "    print(f\"Point {point} visible par le satellite : {visible}\")"
   ]
  }
 ],
 "metadata": {
  "kernelspec": {
   "display_name": "base",
   "language": "python",
   "name": "python3"
  },
  "language_info": {
   "codemirror_mode": {
    "name": "ipython",
    "version": 3
   },
   "file_extension": ".py",
   "mimetype": "text/x-python",
   "name": "python",
   "nbconvert_exporter": "python",
   "pygments_lexer": "ipython3",
   "version": "3.11.5"
  }
 },
 "nbformat": 4,
 "nbformat_minor": 2
}
