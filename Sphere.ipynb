{
 "cells": [
  {
   "cell_type": "code",
   "execution_count": null,
   "metadata": {},
   "outputs": [],
   "source": [
    "import math\n",
    "import numpy as np"
   ]
  },
  {
   "cell_type": "code",
   "execution_count": null,
   "metadata": {},
   "outputs": [],
   "source": [
    "def distance(lat1, lon1, lat2, lon2):\n",
    "    lat1 = math.radians(lat1)\n",
    "    lon1 = math.radians(lon1)\n",
    "    lat2 = math.radians(lat2)\n",
    "    lon2 = math.radians(lon2)\n",
    "    dlon = lon2 - lon1\n",
    "    dlat = lat2 - lat1\n",
    "    a = math.sin(dlat / 2)**2 + math.cos(lat1) * math.cos(lat2) * math.sin(dlon / 2)**2\n",
    "    c = 2 * math.atan2(math.sqrt(a), math.sqrt(1 - a))\n",
    "    distance = 6371 * c\n",
    "    return distance\n",
    "#verification dla fonction, ça semble ok! :=)\n",
    "#dis = distance(49.6833, 5.8167, 50.8466, 4.3528)\n",
    "#print(dis)"
   ]
  },
  {
   "cell_type": "code",
   "execution_count": null,
   "metadata": {},
   "outputs": [],
   "source": [
    "#servira pour la représentation 3D \n",
    "def convert(lat, lon):\n",
    "    lat = math.radians(lat)\n",
    "    lon = math.radians(lon)\n",
    "    x = math.cos(lat) * math.cos(lon)\n",
    "    y = math.cos(lat) * math.sin(lon)\n",
    "    z = math.sin(lat)\n",
    "    return x, y, z\n",
    "#verification dla fonction, ça semble ok! :=)\n",
    "x, y, z = convert(49.6833, 5.8167)\n",
    "print(x, y, z)"
   ]
  },
  {
   "cell_type": "code",
   "execution_count": null,
   "metadata": {},
   "outputs": [],
   "source": [
    "def convert2(x, y, z):\n",
    "    lat = math.asin(z)\n",
    "    lon = math.atan2(y, x)\n",
    "    return math.degrees(lat), math.degrees(lon)\n",
    "#verification dla fonction, ça semble ok! :=)\n",
    "lat, lon = convert2(0.6436807188974397, 0.06557225809075846, 0.7624797774948225)\n",
    "print(lat, lon)"
   ]
  }
 ],
 "metadata": {
  "kernelspec": {
   "display_name": "base",
   "language": "python",
   "name": "python3"
  },
  "language_info": {
   "name": "python",
   "version": "3.11.5"
  }
 },
 "nbformat": 4,
 "nbformat_minor": 2
}
